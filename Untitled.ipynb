{
 "cells": [
  {
   "cell_type": "code",
   "execution_count": 1,
   "metadata": {},
   "outputs": [],
   "source": [
    "from bs4 import BeautifulSoup\n",
    "import requests\n",
    "import pandas as pd"
   ]
  },
  {
   "cell_type": "code",
   "execution_count": 16,
   "metadata": {},
   "outputs": [],
   "source": [
    "def download_file(url, local_filename):\n",
    "    global header\n",
    "    local_filename = \"voice/\" + local_filename + \".\" + url.split('/')[-1].split(\".\")[-1]\n",
    "    # NOTE the stream=True parameter below\n",
    "    with requests.get(url, stream=True, headers=header) as r:\n",
    "        r.raise_for_status()\n",
    "        with open(local_filename, 'wb') as f:\n",
    "            for chunk in r.iter_content(chunk_size=8192): \n",
    "                if chunk: # filter out keep-alive new chunks\n",
    "                    f.write(chunk)\n",
    "                    # f.flush()\n",
    "    return local_filename\n",
    "\n",
    "df = pd.read_csv('data.csv')\n",
    "\n",
    "words = df['words'].str.lower().str.strip().values\n",
    "\n",
    "header = {'User-Agent': 'Mozilla/5.0 (Windows NT 10.0; Win64; x64) AppleWebKit/537.36 (KHTML, like Gecko) Chrome/67.0.3396.79 Safari/537.36'}"
   ]
  },
  {
   "cell_type": "code",
   "execution_count": 19,
   "metadata": {},
   "outputs": [
    {
     "name": "stdout",
     "output_type": "stream",
     "text": [
      "/media/english/uk_pron/u/ukc/ukcoo/ukcooke011.mp3\n",
      "/media/english/uk_pron/u/uks/uksub/uksubur010.mp3\n",
      "/media/english/uk_pron/u/uks/uksta/ukstate013.mp3\n",
      "/media/english/uk_pron/u/uks/uksta/ukstate013.mp3\n",
      "/media/english/uk_pron/u/ukr/ukrep/ukrepen006.mp3\n",
      "/media/english/uk_pron/u/uki/uking/ukingra026.mp3\n",
      "/media/english/uk_pron/u/uks/uksen/uksensi023.mp3\n",
      "/media/english/uk_pron/u/uki/ukinn/ukinnin022.mp3\n",
      "/media/english/uk_pron/u/uki/ukinc/ukincen015.mp3\n",
      "/media/english/uk_pron/u/uko/ukocc/ukoccup006.mp3\n",
      "/media/english/uk_pron/u/ukd/ukdru/ukdrubb016.mp3\n",
      "/media/english/uk_pron/u/ukn/uknos/uknosh_028.mp3\n",
      "/media/english/uk_pron/u/ukv/ukvia/ukvia__029.mp3\n",
      "/media/english/uk_pron/u/uki/ukins/ukinsin012.mp3\n",
      "/media/english/uk_pron/u/uke/ukelu/ukeluci030.mp3\n",
      "/media/english/uk_pron/u/ukd/ukdir/ukdirnd020.mp3\n",
      "/media/english/uk_pron/u/ukc/ukcor/ukcorps023.mp3\n",
      "/media/english/uk_pron/u/uks/uksac/uksacri004.mp3\n",
      "/media/english/uk_pron/u/ukt/uktra/uktrain016.mp3\n",
      "/media/english/uk_pron/u/uke/ukexe/ukexert023.mp3\n",
      "/media/english/uk_pron/u/uki/ukirr/ukirred023.mp3\n",
      "/media/english/uk_pron/u/ukp/ukper/ukperpe012.mp3\n",
      "/media/english/uk_pron/u/uka/ukacc/ukacces011.mp3\n",
      "/media/english/uk_pron/u/ukd/ukdig/ukdigs_012.mp3\n",
      "/media/english/uk_pron/u/ukp/ukpos/ukposer015.mp3\n",
      "/media/english/uk_pron/u/uku/ukutt/ukutter024.mp3\n",
      "/media/english/us_pron/b/ben/benef/benefit.mp3\n",
      "/media/english/uk_pron/u/ukc/ukcom/ukcommi013.mp3\n",
      "/media/english/uk_pron/u/ukg/ukgre/ukgrena014.mp3\n",
      "/media/english/uk_pron/u/ukt/uktar/uktarge002.mp3\n",
      "/media/english/uk_pron/u/ukc/ukcon/ukconje024.mp3\n",
      "/media/english/uk_pron/u/ukc/ukcon/ukconsc001.mp3\n",
      "/media/english/us_pron/p/pro/pronu/pronunciation.mp3\n",
      "/media/english/uk_pron/u/ukn/uknos/uknosh_028.mp3\n",
      "/media/english/uk_pron/u/ukp/ukpas/ukpassi019.mp3\n",
      "/media/english/uk_pron/u/uke/ukexe/ukexert021.mp3\n",
      "/media/english/uk_pron/u/ukp/ukper/ukperpe012.mp3\n",
      "/media/english/uk_pron/u/ukp/ukper/ukperpe020.mp3\n",
      "/media/english/uk_pron/u/ukw/ukwhe/ukwheel026.mp3\n",
      "/media/english/uk_pron/u/ukw/ukwea/ukweari008.mp3\n",
      "/media/english/uk_pron/u/uka/ukac_/ukac___028.mp3\n",
      "/media/english/uk_pron/u/uka/ukadv/ukadver004.mp3\n",
      "/media/english/uk_pron/u/uka/ukadv/ukadver007.mp3\n",
      "/media/english/uk_pron/u/ukc/ukcel/ukceleb026.mp3\n",
      "/media/english/uk_pron/u/ukc/ukchu/ukchurc018.mp3\n",
      "/media/english/uk_pron/u/uke/ukelu/ukeluci029.mp3\n",
      "/media/english/uk_pron/u/uke/ukesc/ukescap021.mp3\n",
      "/media/english/uk_pron/u/uke/ukevi/ukevil_022.mp3\n",
      "/media/english/uk_pron/u/uke/ukexi/ukexist002.mp3\n",
      "/media/english/uk_pron/u/ukg/ukgra/ukgraci022.mp3\n",
      "/media/english/uk_pron/u/ukg/ukgru/ukgrumb019.mp3\n",
      "/media/english/uk_pron/u/ukl/uklif/uklifes015.mp3\n",
      "/media/english/uk_pron/u/ukl/uklog/uklogar030.mp3\n",
      "/media/english/uk_pron/u/ukl/uklus/uklusci027.mp3\n",
      "Error in occurred\n",
      "/media/english/uk_pron/u/ukp/ukper/ukperki008.mp3\n",
      "/media/english/uk_pron/u/uka/ukacc/ukacces004.mp3\n",
      "/media/english/uk_pron/u/uka/ukacc/ukacces011.mp3\n",
      "/media/english/uk_pron/u/ukc/ukcon/ukconsc002.mp3\n",
      "/media/english/uk_pron/u/uke/ukexp/ukexpat028.mp3\n",
      "/media/english/uk_pron/u/uka/ukacq/ukacqua002.mp3\n",
      "/media/english/us_pron/u/usa/usana/usanach005.mp3\n",
      "/media/english/uk_pron/u/uka/ukamu/ukamusi021.mp3\n",
      "/media/english/us_pron/b/beh/behav/behavior.mp3\n",
      "/media/english/uk_pron/u/ukb/ukbit/ukbitch018.mp3\n",
      "/media/english/uk_pron/u/ukk/ukkno/ukknock013.mp3\n",
      "/media/english/uk_pron/u/ukp/ukper/ukperki008.mp3\n",
      "/media/english/uk_pron/u/ukb/ukbri/ukbrit_024.mp3\n",
      "/media/english/uk_pron/u/ukc/ukcar/ukcarho002.mp3\n",
      "/media/english/uk_pron/u/ukc/ukchi/ukchilb023.mp3\n",
      "/media/english/uk_pron/u/ukc/ukchi/ukchilb023.mp3\n",
      "Error in desiccate\n",
      "/media/english/uk_pron/u/ukb/ukb00/ukb00427.mp3\n",
      "/media/english/uk_pron/u/ukl/uklic/uklicen019.mp3\n",
      "/media/english/uk_pron/u/ukl/uklif/uklifes015.mp3\n",
      "/media/english/uk_pron/u/ukl/uklin/uklink_018.mp3\n",
      "Error in occurred\n",
      "Error in omitted\n",
      "/media/english/uk_pron/u/uko/ukomn/ukomniv017.mp3\n",
      "/media/english/uk_pron/u/ukp/ukpff/ukpfft_016.mp3\n",
      "/media/english/uk_pron/u/ukp/ukpla/ukplayg018.mp3\n",
      "/media/english/uk_pron/u/ukr/ukrem/ukremak009.mp3\n",
      "/media/english/uk_pron/u/uks/uksan/uksands004.mp3\n",
      "/media/english/uk_pron/u/uks/uksie/uksiege001.mp3\n",
      "/media/english/uk_pron/u/ukv/ukvia/ukvia__029.mp3\n"
     ]
    }
   ],
   "source": [
    "for word in words:\n",
    "    \n",
    "    try:\n",
    "        res = requests.get(\"https://dictionary.cambridge.org/pronunciation/english/{}\".format(word), headers=header)\n",
    "        soup = BeautifulSoup(res.text)\n",
    "        url = soup.find('div', {'class': 'pronunciation-item'}).find('span')['data-src-mp3']\n",
    "        print(url)\n",
    "    \n",
    "    \n",
    "        download_file(\"https://dictionary.cambridge.org{}\".format(url), word)\n",
    "    except:\n",
    "        print(\"Error in {}\".format(word))"
   ]
  },
  {
   "cell_type": "code",
   "execution_count": 4,
   "metadata": {},
   "outputs": [],
   "source": []
  },
  {
   "cell_type": "code",
   "execution_count": 16,
   "metadata": {},
   "outputs": [],
   "source": []
  },
  {
   "cell_type": "code",
   "execution_count": 11,
   "metadata": {},
   "outputs": [],
   "source": []
  },
  {
   "cell_type": "code",
   "execution_count": 20,
   "metadata": {},
   "outputs": [
    {
     "data": {
      "text/plain": [
       "'coolly.mp3'"
      ]
     },
     "execution_count": 20,
     "metadata": {},
     "output_type": "execute_result"
    }
   ],
   "source": []
  },
  {
   "cell_type": "code",
   "execution_count": null,
   "metadata": {},
   "outputs": [],
   "source": []
  }
 ],
 "metadata": {
  "kernelspec": {
   "display_name": "Python [conda env:anaconda3]",
   "language": "python",
   "name": "conda-env-anaconda3-py"
  },
  "language_info": {
   "codemirror_mode": {
    "name": "ipython",
    "version": 3
   },
   "file_extension": ".py",
   "mimetype": "text/x-python",
   "name": "python",
   "nbconvert_exporter": "python",
   "pygments_lexer": "ipython3",
   "version": "3.5.6"
  }
 },
 "nbformat": 4,
 "nbformat_minor": 2
}
